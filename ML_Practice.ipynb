{
  "nbformat": 4,
  "nbformat_minor": 0,
  "metadata": {
    "colab": {
      "name": "ML- Practice",
      "provenance": [],
      "collapsed_sections": [],
      "authorship_tag": "ABX9TyPSvdoY0QzkjxmRqeMXHs+C",
      "include_colab_link": true
    },
    "kernelspec": {
      "name": "python3",
      "display_name": "Python 3"
    }
  },
  "cells": [
    {
      "cell_type": "markdown",
      "metadata": {
        "id": "view-in-github",
        "colab_type": "text"
      },
      "source": [
        "<a href=\"https://colab.research.google.com/github/jahanzeb-j/ML-Practice/blob/main/ML_Practice.ipynb\" target=\"_parent\"><img src=\"https://colab.research.google.com/assets/colab-badge.svg\" alt=\"Open In Colab\"/></a>"
      ]
    },
    {
      "cell_type": "markdown",
      "metadata": {
        "id": "39yy2pyH7qVp"
      },
      "source": [
        "# **ML - Practice**"
      ]
    },
    {
      "cell_type": "code",
      "metadata": {
        "id": "7hnaRQFo5SDv"
      },
      "source": [
        "import tensorflow as tf"
      ],
      "execution_count": null,
      "outputs": []
    },
    {
      "cell_type": "code",
      "metadata": {
        "id": "qV9UmjIu5eQi"
      },
      "source": [
        "import sklearn"
      ],
      "execution_count": null,
      "outputs": []
    },
    {
      "cell_type": "code",
      "metadata": {
        "colab": {
          "base_uri": "https://localhost:8080/",
          "height": 35
        },
        "id": "1nCOpOot5hiO",
        "outputId": "51851c4b-38dc-4266-e8a7-6c7dc56f3f28"
      },
      "source": [
        "tf.__version__"
      ],
      "execution_count": null,
      "outputs": [
        {
          "output_type": "execute_result",
          "data": {
            "application/vnd.google.colaboratory.intrinsic+json": {
              "type": "string"
            },
            "text/plain": [
              "'2.4.0'"
            ]
          },
          "metadata": {
            "tags": []
          },
          "execution_count": 4
        }
      ]
    },
    {
      "cell_type": "code",
      "metadata": {
        "id": "zxFd-5iC6lFR"
      },
      "source": [
        ""
      ],
      "execution_count": null,
      "outputs": []
    },
    {
      "cell_type": "markdown",
      "metadata": {
        "id": "Y57Z0tVKDIEU"
      },
      "source": [
        "Predict value\r\n",
        "(x1 + 2**x2 + 3*.*x3) "
      ]
    },
    {
      "cell_type": "markdown",
      "metadata": {
        "id": "v5H8zh8PFMjr"
      },
      "source": [
        "![image.png](data:image/png;base64,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)"
      ]
    },
    {
      "cell_type": "code",
      "metadata": {
        "id": "rVFc2ugXDKrR"
      },
      "source": [
        "#Generate data\r\n",
        "from random import randint\r\n",
        "TRAIN_SET_LIMIT = 1000\r\n",
        "TRAIN_SET_COUNT = 100\r\n",
        "\r\n",
        "TRAIN_INPUT = list()\r\n",
        "TRAIN_OUTPUT = list()\r\n",
        "for i in range(TRAIN_SET_COUNT):\r\n",
        "    a = randint(0, TRAIN_SET_LIMIT)\r\n",
        "    b = randint(0, TRAIN_SET_LIMIT)\r\n",
        "    c = randint(0, TRAIN_SET_LIMIT)\r\n",
        "    op = a + (2*b) + (3*c)\r\n",
        "    TRAIN_INPUT.append([a, b, c])\r\n",
        "    TRAIN_OUTPUT.append(op)"
      ],
      "execution_count": null,
      "outputs": []
    },
    {
      "cell_type": "markdown",
      "metadata": {
        "id": "DndLTkYdDggb"
      },
      "source": [
        "Train model"
      ]
    },
    {
      "cell_type": "code",
      "metadata": {
        "colab": {
          "base_uri": "https://localhost:8080/"
        },
        "id": "ZtFEtkYEDMj_",
        "outputId": "3785dbf4-c90b-4aa3-94a7-eae0daa0b646"
      },
      "source": [
        "from sklearn.linear_model import LinearRegression\r\n",
        "\r\n",
        "model = LinearRegression(n_jobs=-1)\r\n",
        "model.fit(X=TRAIN_INPUT, y=TRAIN_OUTPUT)"
      ],
      "execution_count": null,
      "outputs": [
        {
          "output_type": "execute_result",
          "data": {
            "text/plain": [
              "LinearRegression(copy_X=True, fit_intercept=True, n_jobs=-1, normalize=False)"
            ]
          },
          "metadata": {
            "tags": []
          },
          "execution_count": 8
        }
      ]
    },
    {
      "cell_type": "markdown",
      "metadata": {
        "id": "-Uey07rGDkFZ"
      },
      "source": [
        "Test Model"
      ]
    },
    {
      "cell_type": "code",
      "metadata": {
        "colab": {
          "base_uri": "https://localhost:8080/"
        },
        "id": "XrHbpUPsDdBx",
        "outputId": "1b983088-73b1-4fec-aa94-5013575b63ac"
      },
      "source": [
        "test = [[1,1,1]]\r\n",
        "\r\n",
        "model.predict(X=test)"
      ],
      "execution_count": null,
      "outputs": [
        {
          "output_type": "execute_result",
          "data": {
            "text/plain": [
              "array([6.])"
            ]
          },
          "metadata": {
            "tags": []
          },
          "execution_count": 12
        }
      ]
    },
    {
      "cell_type": "markdown",
      "metadata": {
        "id": "saY351UMEmkd"
      },
      "source": [
        "100 % response"
      ]
    },
    {
      "cell_type": "code",
      "metadata": {
        "colab": {
          "base_uri": "https://localhost:8080/"
        },
        "id": "ERwm3-JIEObb",
        "outputId": "20c4b072-f253-4d87-9526-fe849ddac2b8"
      },
      "source": [
        "test = [[2,2,2]]\r\n",
        "outcome = model.predict(X=test)\r\n",
        "coefficients = model.coef_\r\n",
        "\r\n",
        "print('Outcome : {}\\nCoefficients : {}'.format(outcome, coefficients))"
      ],
      "execution_count": null,
      "outputs": [
        {
          "output_type": "stream",
          "text": [
            "Outcome : [12.]\n",
            "Coefficients : [1. 2. 3.]\n"
          ],
          "name": "stdout"
        }
      ]
    }
  ]
}